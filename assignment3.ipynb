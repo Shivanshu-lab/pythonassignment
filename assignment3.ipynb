{
 "cells": [
  {
   "cell_type": "code",
   "execution_count": null,
   "id": "5141a0da-30e7-4bfa-9df8-ce59c2f21a38",
   "metadata": {},
   "outputs": [
    {
     "name": "stdin",
     "output_type": "stream",
     "text": [
      "enter your city name : saharanpur,sarsawa\n",
      "enter your full name : surya pratap rana\n"
     ]
    }
   ],
   "source": [
    "city=input(\"enter your city name :\")\n",
    "name=input(\"enter your full name :\")\n",
    "job_designation=input(\"enter your job designation :\")\n",
    "date_of_joining=input(\"date_of_joining (DD-MM-YYYY) :\")\n",
    "compensation_package=int.input(\"enter your package :\")\n",
    "email=input(\"enter your email :\")\n",
    "HR_Manager=input(\"enter manager\\'s name :\")\n",
    "\n",
    "letter=f\"\"\"{city}\n",
    "\n",
    "Dear {name} ,\n",
    "\n",
    "Subject: Offer of Employment for the position of {job_designation}\n",
    "\n",
    "We are delighted to extend this formal offer of employment to you for the position of Python Developer at our organization. Based on your qualifications and the skills you demonstrated during the recruitment process, we are confident that you will be a valuable addition to our team.\n",
    "\n",
    "As discussed, your expected date of {date_of_joining} . Your total compensation package will be {compensation_package} , which includes all salary components as per the company’s policy. Further details regarding your compensation will be provided in your employment contract.\n",
    "\n",
    "We expect you to bring your best efforts to help the company achieve its goals, and we are committed to supporting your professional growth during your time with us.\n",
    "\n",
    "Please confirm your acceptance of this offer by sending an email to {email} at your earliest convenience. Should you have any queries regarding this offer, feel free to reach out to us.\n",
    "\n",
    "We look forward to having you onboard and are excited about the great things we can accomplish together.\n",
    "\n",
    "Sincerely,\n",
    "\n",
    "Sunil Kumar\n",
    "{HR_Manager}\"\"\"\n",
    "\n",
    "print(letter)\n"
   ]
  },
  {
   "cell_type": "code",
   "execution_count": null,
   "id": "3e143fed-015c-4d8a-a1eb-145b0388ef3c",
   "metadata": {},
   "outputs": [],
   "source": []
  }
 ],
 "metadata": {
  "kernelspec": {
   "display_name": "Python [conda env:base] *",
   "language": "python",
   "name": "conda-base-py"
  },
  "language_info": {
   "codemirror_mode": {
    "name": "ipython",
    "version": 3
   },
   "file_extension": ".py",
   "mimetype": "text/x-python",
   "name": "python",
   "nbconvert_exporter": "python",
   "pygments_lexer": "ipython3",
   "version": "3.13.5"
  }
 },
 "nbformat": 4,
 "nbformat_minor": 5
}
