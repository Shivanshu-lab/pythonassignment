{
 "cells": [
  {
   "cell_type": "code",
   "execution_count": 8,
   "id": "b51a6d68-18fe-4156-ae44-05e19004b572",
   "metadata": {},
   "outputs": [],
   "source": [
    "#Q1_\n",
    "# *==expression\n",
    "# -87.8==float\n",
    "# - ==expression\n",
    "# / ==expression\n",
    "# + ==expression\n",
    "# 6 ==int"
   ]
  },
  {
   "cell_type": "code",
   "execution_count": 10,
   "id": "6b5d0219-ff98-4dd3-9910-2c8f38afb79f",
   "metadata": {},
   "outputs": [],
   "source": [
    "#Q2_\n",
    "# strind= string is a type of variable data in python.string data is identify when a variable data is enclose in double quotes\n",
    "# variable= a variable is a name for a value in a python programm.variable stores data vale which can be any type eg int,float,str,set"
   ]
  },
  {
   "cell_type": "code",
   "execution_count": 1,
   "id": "b60bcb67-1a42-4b39-91c8-7cda63087717",
   "metadata": {},
   "outputs": [],
   "source": [
    "#Q3\n",
    "#three different data types are--\n",
    "#1-int=it is a data type which are integers numbers in python eg-82,97,-82\n",
    "#2-set=set is a collection of sequence data in python.it represent by enclosing in curly braces eg-{\"tarun\",\"abhi\",1,1} \n",
    "#3-float=it is a data type which are decimal numbers eg 82.8,89.4"
   ]
  },
  {
   "cell_type": "code",
   "execution_count": 2,
   "id": "a2c35e57-42cb-4085-b3e8-63ad0be21c70",
   "metadata": {},
   "outputs": [],
   "source": [
    "#Q4\n",
    "# a expression is defined as combination of constants,variables and operators eg.10-7,num=24,24*7.An expressions always evaluates to a value."
   ]
  },
  {
   "cell_type": "code",
   "execution_count": null,
   "id": "b6ae375c-b5e3-4e60-ac43-88fc8fdf353a",
   "metadata": {},
   "outputs": [],
   "source": [
    "#Q5\n",
    "# an expression is combination of constants,variable and operators.an expression is a peice of code.it evaluates to a value.eg-2+9,\"hello\"+\"!\"\n",
    "# an statement  is a complete instruction that performs an action.it does not have to produce a value.In span=10 is a statement bcoz it assignment value 10 to spam(variable)."
   ]
  },
  {
   "cell_type": "code",
   "execution_count": 19,
   "id": "e1a82e9e-03c6-45f1-ad88-4a13cc8c73ea",
   "metadata": {},
   "outputs": [
    {
     "name": "stdout",
     "output_type": "stream",
     "text": [
      "23\n"
     ]
    }
   ],
   "source": [
    "#Q6\n",
    "bacon=22\n",
    "print(bacon+1)"
   ]
  },
  {
   "cell_type": "code",
   "execution_count": 20,
   "id": "b17d1dba-269b-4766-8aaa-1e0856aa2ff2",
   "metadata": {},
   "outputs": [
    {
     "name": "stdout",
     "output_type": "stream",
     "text": [
      "22\n"
     ]
    }
   ],
   "source": [
    "print(bacon)"
   ]
  },
  {
   "cell_type": "code",
   "execution_count": 21,
   "id": "636ef5a3-e3f0-4567-b987-7bbae428a29d",
   "metadata": {},
   "outputs": [],
   "source": [
    "#the variable bacon still contain the value 22."
   ]
  },
  {
   "cell_type": "code",
   "execution_count": 22,
   "id": "cbbf55c1-2fa4-40c0-bb14-7a9a46b52f8e",
   "metadata": {},
   "outputs": [
    {
     "name": "stdout",
     "output_type": "stream",
     "text": [
      "spamspamspam\n",
      "spamspamspam\n"
     ]
    }
   ],
   "source": [
    "#Q7\n",
    "#\"spam\"+\"spamspam\"=the value of this term will be \"spamspamspam\" bcoz both are str variable\n",
    "#\"spam\"*3= means spam str variable  is three time.so its value should be \"spamspamspam\"\n",
    "#both expression result in the same value\n",
    "print(\"spam\"+\"spamspam\")\n",
    "print(\"spam\"*3)"
   ]
  },
  {
   "cell_type": "code",
   "execution_count": 23,
   "id": "17f6e17f-e27a-4b8b-9773-c5e115074f13",
   "metadata": {},
   "outputs": [],
   "source": [
    "#Q8\n",
    "#egg is valid variable name while 100 is invalid bcoz due to python variable,a variable can only starts with (a-z or A-Z),or with a underscore(_).the rest can contain number,letters or underscore.thats why egg is valid variable name while 100 is invalid"
   ]
  },
  {
   "cell_type": "code",
   "execution_count": 27,
   "id": "133a539f-6a17-4d07-a67d-019166cc5752",
   "metadata": {},
   "outputs": [
    {
     "name": "stdout",
     "output_type": "stream",
     "text": [
      "<class 'int'>\n",
      "<class 'float'>\n",
      "<class 'str'>\n"
     ]
    }
   ],
   "source": [
    "#Q9\n",
    "#int function=can be used to get integer value\n",
    "#float function=can be used to a floating-point value\n",
    "#str function=can be used to get string value\n",
    "int(2)\n",
    "float(8.7)\n",
    "str(3)\n",
    "print(int)\n",
    "print(float)\n",
    "print(str)"
   ]
  },
  {
   "cell_type": "code",
   "execution_count": 47,
   "id": "5e151b31-5339-463f-91e8-bfadc3a12c4d",
   "metadata": {},
   "outputs": [
    {
     "name": "stdout",
     "output_type": "stream",
     "text": [
      "i have eaten99burritos\n"
     ]
    }
   ],
   "source": [
    "#10\n",
    "#\"i have eaten\" + 99 + \"burritos\" cause an error bcoz-\n",
    "#\"i have eaten\" is str variable\n",
    "#99 is int variable \n",
    "#\"burritos\" is str variable \n",
    "#to fix we need to convert int into str variable \n",
    "print('i have eaten' + str(99)+ 'burritos')\n"
   ]
  },
  {
   "cell_type": "code",
   "execution_count": null,
   "id": "0807e9b4-9a5e-4860-adcd-7277e87b68d4",
   "metadata": {},
   "outputs": [],
   "source": [
    "# sir ye eaten99burritos sath mein aa rha hai"
   ]
  }
 ],
 "metadata": {
  "kernelspec": {
   "display_name": "Python [conda env:base] *",
   "language": "python",
   "name": "conda-base-py"
  },
  "language_info": {
   "codemirror_mode": {
    "name": "ipython",
    "version": 3
   },
   "file_extension": ".py",
   "mimetype": "text/x-python",
   "name": "python",
   "nbconvert_exporter": "python",
   "pygments_lexer": "ipython3",
   "version": "3.13.5"
  }
 },
 "nbformat": 4,
 "nbformat_minor": 5
}
