{
 "cells": [
  {
   "cell_type": "code",
   "execution_count": 42,
   "id": "61f91b4c-c533-4fa4-972d-ea8ba664d83f",
   "metadata": {},
   "outputs": [
    {
     "name": "stdout",
     "output_type": "stream",
     "text": [
      "{1, 2, 3, 4}\n"
     ]
    }
   ],
   "source": [
    "# 1.ADD():Adds a single element to the set.\n",
    "set1={1,2,3} \n",
    "set1.add(4) \n",
    "print(set1)"
   ]
  },
  {
   "cell_type": "code",
   "execution_count": 4,
   "id": "0279fd04-87df-43f8-bb0b-892e797a1416",
   "metadata": {},
   "outputs": [
    {
     "name": "stdout",
     "output_type": "stream",
     "text": [
      "set()\n"
     ]
    }
   ],
   "source": [
    "# 2.CLEAR():remove all elements from this set.\n",
    "set1={1,2,3} \n",
    "set1.clear() \n",
    "print(set1)"
   ]
  },
  {
   "cell_type": "code",
   "execution_count": 6,
   "id": "0a8762c7-724f-4d37-ae69-d9bb7bdd1aed",
   "metadata": {},
   "outputs": [
    {
     "name": "stdout",
     "output_type": "stream",
     "text": [
      "{1, 2, 3}\n"
     ]
    }
   ],
   "source": [
    "# 3.COPY():return a shallow of a set.It means you get a new set with the same elements, but it’s a different object in memory. \n",
    "set1={1,2,3} \n",
    "set2=set1.copy() \n",
    "print(set2)"
   ]
  },
  {
   "cell_type": "code",
   "execution_count": 10,
   "id": "c817339c-6047-4765-841b-467417fe5eb8",
   "metadata": {},
   "outputs": [
    {
     "name": "stdout",
     "output_type": "stream",
     "text": [
      "{1, 2}\n"
     ]
    }
   ],
   "source": [
    "# 4.DIFFERENCE():Return a new set with elements in the set that are not in the others.*(set1 mein se set2 ke elements ko remove karke ek dusra \n",
    "#   set bnana deta hai.).  \n",
    "set1={1,2,3} \n",
    "set2={3,4,5}\n",
    "set3=set1.difference(set2) \n",
    "print(set3)"
   ]
  },
  {
   "cell_type": "code",
   "execution_count": 11,
   "id": "5bd94a42-db9d-473c-837d-434bf05e9a4f",
   "metadata": {},
   "outputs": [
    {
     "name": "stdout",
     "output_type": "stream",
     "text": [
      "{1, 2}\n"
     ]
    }
   ],
   "source": [
    "# 5.DIFFERENCE_UPDATE():Update the set, removing elements found in others.*(set1 mein se set2 ke elements ko remove karke, \n",
    "#   set1 ki value ko update kar deta hai.)\n",
    "set1={1,2,3} \n",
    "set2={3,4,5} \n",
    "set1.difference_update(set2) \n",
    "print(set1)"
   ]
  },
  {
   "cell_type": "code",
   "execution_count": 14,
   "id": "894d406b-a9d6-45b8-b7cf-61bdb164a9dd",
   "metadata": {},
   "outputs": [
    {
     "name": "stdout",
     "output_type": "stream",
     "text": [
      "{1, 3}\n"
     ]
    }
   ],
   "source": [
    "# 6.DISCARD():Remove an element from a set if it is a member.Unlike set.remove(), the discard() method does not raise\n",
    "#   an exception when an element is missing from the set.\n",
    "set1={1,2,3} \n",
    "set2={3,4,5} \n",
    "set1.discard(2) \n",
    "print(set1)"
   ]
  },
  {
   "cell_type": "code",
   "execution_count": 15,
   "id": "b0a21568-6d6a-4f50-9a4c-20b7e924b01f",
   "metadata": {},
   "outputs": [
    {
     "name": "stdout",
     "output_type": "stream",
     "text": [
      "{3, 6}\n"
     ]
    }
   ],
   "source": [
    "# 7.INTERSECTION():Return a new set with elements common to the set and all others.*(set1 mein aur set2 mein jo bhi elements comman hoge unhe \n",
    "#   nikal ke ek nya set deta hai.)\n",
    "set1={1,2,3,6} \n",
    "set2={3,4,5,6}  \n",
    "set3=set1.intersection(set2) \n",
    "print(set3)"
   ]
  },
  {
   "cell_type": "code",
   "execution_count": 18,
   "id": "68529219-fd1e-4acc-bedd-a6fd771a1339",
   "metadata": {},
   "outputs": [
    {
     "name": "stdout",
     "output_type": "stream",
     "text": [
      "{3, 6}\n"
     ]
    }
   ],
   "source": [
    "# 8.INTERSECTION_UPDATE():set1 mein aur set2 mein jo bhi elements comman hoge unhe set1 mein update kar deta hai.)\n",
    "set1={1,2,3,6} \n",
    "set2={3,4,5,6} \n",
    "set1.intersection_update(set2) \n",
    "print(set1)"
   ]
  },
  {
   "cell_type": "code",
   "execution_count": 19,
   "id": "fcd8290a-12f4-46d2-835f-574bcb2b60b1",
   "metadata": {},
   "outputs": [
    {
     "data": {
      "text/plain": [
       "False"
      ]
     },
     "execution_count": 19,
     "metadata": {},
     "output_type": "execute_result"
    }
   ],
   "source": [
    "# 9.ISDISJOINT:return TRUE agar doo sets mein ek bhi element comman na ho aur FALSE agar comman ho\n",
    "set1={1,2,3,6} \n",
    "set2={3,4,5,6} \n",
    "set1.isdisjoint(set2)"
   ]
  },
  {
   "cell_type": "code",
   "execution_count": 20,
   "id": "7a089b06-dee5-4c29-90a6-af25ba35c888",
   "metadata": {},
   "outputs": [
    {
     "data": {
      "text/plain": [
       "True"
      ]
     },
     "execution_count": 20,
     "metadata": {},
     "output_type": "execute_result"
    }
   ],
   "source": [
    "set1={1,2,} \n",
    "set2={3,4,5,6} \n",
    "set1.isdisjoint(set2)"
   ]
  },
  {
   "cell_type": "code",
   "execution_count": 23,
   "id": "87f27ad0-0e83-4a09-bbd4-106dd166686d",
   "metadata": {},
   "outputs": [
    {
     "data": {
      "text/plain": [
       "True"
      ]
     },
     "execution_count": 23,
     "metadata": {},
     "output_type": "execute_result"
    }
   ],
   "source": [
    "# 10.ISSUBSET():Checks if all elements of one set are in another.Dekta hai kya ek set dussre set ka subset hai.\n",
    "set1={1,2,3,6} \n",
    "set2={3,6}  \n",
    "set2.issubset(set1)"
   ]
  },
  {
   "cell_type": "code",
   "execution_count": 24,
   "id": "6d910066-9f88-437a-87ff-478be7b73f09",
   "metadata": {},
   "outputs": [
    {
     "data": {
      "text/plain": [
       "True"
      ]
     },
     "execution_count": 24,
     "metadata": {},
     "output_type": "execute_result"
    }
   ],
   "source": [
    "# 11.ISSUPERSET():Checks if a set contains all elements of another set.\n",
    "set1={1,2,3,6} \n",
    "set2={3,6} \n",
    "set1.issuperset(set2)"
   ]
  },
  {
   "cell_type": "code",
   "execution_count": 25,
   "id": "955540fd-519e-495d-9546-1249abc19377",
   "metadata": {},
   "outputs": [
    {
     "data": {
      "text/plain": [
       "1"
      ]
     },
     "execution_count": 25,
     "metadata": {},
     "output_type": "execute_result"
    }
   ],
   "source": [
    "# 12.POP():Remove and return an random set element.Raises KeyError if the set is empty.\n",
    "set1={1,2,3,6}\n",
    "set1.pop()"
   ]
  },
  {
   "cell_type": "code",
   "execution_count": 27,
   "id": "9624f0a2-b26a-4d3a-80dc-85b7f612f7fd",
   "metadata": {},
   "outputs": [
    {
     "name": "stdout",
     "output_type": "stream",
     "text": [
      "{1, 2, 6}\n"
     ]
    }
   ],
   "source": [
    "# 13.REMOVE():Removes a specific element. ❌ Raises error if element is not found.\n",
    "set1={1,2,3,6} \n",
    "set1.remove(3) \n",
    "print(set1)"
   ]
  },
  {
   "cell_type": "code",
   "execution_count": 43,
   "id": "ff63e371-8d90-4cf2-a437-45b6930a0b98",
   "metadata": {},
   "outputs": [
    {
     "name": "stdout",
     "output_type": "stream",
     "text": [
      "{1, 2, 5}\n"
     ]
    }
   ],
   "source": [
    "# 14.SYMMETRIC_DIFFERENCE():remove comman elements in both sets and gives new set. *(Returns a new set with non-common elements).\n",
    "#    Returns the elements that are in either of the sets, but not in both.\n",
    "set1={1,2,3,6} \n",
    "set2={3,6,5}  \n",
    "set3=set1.symmetric_difference(set2) \n",
    "print(set3) \n",
    "# Removes elements common to both (like 3,6) and keeps the rest from both sets."
   ]
  },
  {
   "cell_type": "code",
   "execution_count": 44,
   "id": "cfdf98b4-ed18-4411-9328-babeb1c0a62d",
   "metadata": {},
   "outputs": [
    {
     "name": "stdout",
     "output_type": "stream",
     "text": [
      "{1, 2, 5}\n"
     ]
    }
   ],
   "source": [
    "# 15.SYMMETRIC_DIFFERENCE_UPDATE():This updates the set with the symmetric difference, instead of returning a new one.\n",
    "set1={1,2,3,6} \n",
    "set2={3,6,5}  \n",
    "set1.symmetric_difference_update(set2) \n",
    "print(set1)"
   ]
  },
  {
   "cell_type": "code",
   "execution_count": 36,
   "id": "6864c940-31ac-40b2-9d01-cd897bb754d5",
   "metadata": {},
   "outputs": [
    {
     "name": "stdout",
     "output_type": "stream",
     "text": [
      "{1, 2, 3, 4, 5, 6}\n"
     ]
    }
   ],
   "source": [
    "# 16.UNION():Combines two sets (returns all unique elements).In new set.\n",
    "set1={1,2,3,6} \n",
    "set2={3,6,4,5}   \n",
    "set3=set1.union(set2) \n",
    "print(set3)"
   ]
  },
  {
   "cell_type": "code",
   "execution_count": 40,
   "id": "4c7b797e-f9b3-4cbf-a002-7a273ab563cd",
   "metadata": {},
   "outputs": [
    {
     "name": "stdout",
     "output_type": "stream",
     "text": [
      "{1, 2, 3, 4, 5, 6, 'n', 's', 7, 8, 9, 99, 'i', 66, 33, 'r', 'g', 't'}\n"
     ]
    }
   ],
   "source": [
    "# 17.UPDATE():Adds multiple elements (from a list, tuple, or set) to the set.\n",
    "set1={1,2,3,6} \n",
    "set2={3,6,4,5} \n",
    "name='string'\n",
    "list1=[7,8,9] \n",
    "tuple1=(99,66,33)\n",
    "set1.update(set2,name,list1,tuple1) \n",
    "print(set1)"
   ]
  },
  {
   "cell_type": "code",
   "execution_count": null,
   "id": "d1ccbea5-8976-47f6-bded-660046d5d643",
   "metadata": {},
   "outputs": [],
   "source": []
  }
 ],
 "metadata": {
  "kernelspec": {
   "display_name": "Python [conda env:base] *",
   "language": "python",
   "name": "conda-base-py"
  },
  "language_info": {
   "codemirror_mode": {
    "name": "ipython",
    "version": 3
   },
   "file_extension": ".py",
   "mimetype": "text/x-python",
   "name": "python",
   "nbconvert_exporter": "python",
   "pygments_lexer": "ipython3",
   "version": "3.13.5"
  }
 },
 "nbformat": 4,
 "nbformat_minor": 5
}
