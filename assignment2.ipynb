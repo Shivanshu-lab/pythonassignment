{
 "cells": [
  {
   "cell_type": "code",
   "execution_count": 11,
   "id": "fe1d9093-6ee2-46c0-898d-f476f3d4ac45",
   "metadata": {},
   "outputs": [
    {
     "data": {
      "text/plain": [
       "'Hello this is a string'"
      ]
     },
     "execution_count": 11,
     "metadata": {},
     "output_type": "execute_result"
    }
   ],
   "source": [
    "string=\"hello this is a string\"\n",
    "string.capitalize()"
   ]
  },
  {
   "cell_type": "raw",
   "id": "f9d50ada-a83d-4fe6-9f14-9f118d2a2ca7",
   "metadata": {},
   "source": [
    "# str.capitalize=this function makes this first character of string capital and rest string small"
   ]
  },
  {
   "cell_type": "code",
   "execution_count": 14,
   "id": "ec62c7de-ea1c-4964-9e48-ed53b6c0b259",
   "metadata": {},
   "outputs": [
    {
     "data": {
      "text/plain": [
       "'hello this is a string'"
      ]
     },
     "execution_count": 14,
     "metadata": {},
     "output_type": "execute_result"
    }
   ],
   "source": [
    "string=\"Hello This is a string\"\n",
    "string.casefold()"
   ]
  },
  {
   "cell_type": "code",
   "execution_count": 15,
   "id": "19e8cc4e-2d72-4ae6-95fb-fc0ad525ecbb",
   "metadata": {},
   "outputs": [],
   "source": [
    "# str.casefold()-this function of string makes the string lowercase(more aggressive than lower()).\n",
    "# means this function also lowercase the special characters eg-$,%"
   ]
  },
  {
   "cell_type": "code",
   "execution_count": 28,
   "id": "629c307e-7899-4936-af93-bc2c406a7f9d",
   "metadata": {},
   "outputs": [
    {
     "name": "stdout",
     "output_type": "stream",
     "text": [
      "@@@@@@@@@hello this is a string@@@@@@@@@\n"
     ]
    }
   ],
   "source": [
    "string=\"hello this is a string\"\n",
    "result=string.center(40,\"@\")\n",
    "print(result)"
   ]
  },
  {
   "cell_type": "code",
   "execution_count": 29,
   "id": "0dfb39ab-03a6-4e70-ac7f-bc9006b655d3",
   "metadata": {},
   "outputs": [],
   "source": [
    "# string.center=this function makes a string centered align within a specified width.returns a new string with the original string centered \n",
    "# and padded with a fill character on both sides"
   ]
  },
  {
   "cell_type": "code",
   "execution_count": 36,
   "id": "b9de9501-6b68-4a6e-9632-ebe77027d68b",
   "metadata": {},
   "outputs": [
    {
     "data": {
      "text/plain": [
       "2"
      ]
     },
     "execution_count": 36,
     "metadata": {},
     "output_type": "execute_result"
    }
   ],
   "source": [
    "string=\"hello this is a string\"\n",
    "string.count(\"t\")"
   ]
  },
  {
   "cell_type": "code",
   "execution_count": 37,
   "id": "17b04ce3-725c-43bf-80dd-c1d3c0f908df",
   "metadata": {},
   "outputs": [
    {
     "data": {
      "text/plain": [
       "1"
      ]
     },
     "execution_count": 37,
     "metadata": {},
     "output_type": "execute_result"
    }
   ],
   "source": [
    "string=\"hello this is a string\"\n",
    "string.count(\"t\",7,len(string))"
   ]
  },
  {
   "cell_type": "code",
   "execution_count": 38,
   "id": "072e97ca-df1b-45e8-8fcb-abab4078708d",
   "metadata": {},
   "outputs": [],
   "source": [
    "# string.count=it is used to determine the number of non-ovelapping occurrences of a substring within a given string"
   ]
  },
  {
   "cell_type": "code",
   "execution_count": 41,
   "id": "9ca9064f-912a-45e9-aa1b-b5a316b8f1df",
   "metadata": {},
   "outputs": [
    {
     "name": "stdout",
     "output_type": "stream",
     "text": [
      "b'hello this is a string'\n"
     ]
    }
   ],
   "source": [
    "string=\"hello this is a string\"\n",
    "result=string.encode(encoding='UTF-8',errors='strict')\n",
    "print(result)"
   ]
  },
  {
   "cell_type": "code",
   "execution_count": 42,
   "id": "a8b67e86-ff69-4e45-8d40-4a4a7fad91cd",
   "metadata": {},
   "outputs": [],
   "source": [
    "# string.encode=this function provides encoded version of string"
   ]
  },
  {
   "cell_type": "code",
   "execution_count": 45,
   "id": "46a7052d-e224-4a46-b531-ff9f710c1af4",
   "metadata": {},
   "outputs": [
    {
     "data": {
      "text/plain": [
       "True"
      ]
     },
     "execution_count": 45,
     "metadata": {},
     "output_type": "execute_result"
    }
   ],
   "source": [
    "string=\"hello this is a string\"\n",
    "string.endswith(\"g\")"
   ]
  },
  {
   "cell_type": "code",
   "execution_count": 46,
   "id": "da7602e7-c2c6-4221-806c-332b7b25a3a5",
   "metadata": {},
   "outputs": [],
   "source": [
    "# string.endswith(suffix[,start[,end]]) string.endswith=provides (true),if the string ends with specified suffix"
   ]
  },
  {
   "cell_type": "code",
   "execution_count": 58,
   "id": "d3f6c376-1a68-4d3c-a5cb-fcf819b53d61",
   "metadata": {},
   "outputs": [],
   "source": [
    "# string.expandtabs(tabsize=8)=replace tabs with spaces"
   ]
  },
  {
   "cell_type": "code",
   "execution_count": 61,
   "id": "31da6d55-59f1-4358-b246-625a71022e37",
   "metadata": {},
   "outputs": [
    {
     "data": {
      "text/plain": [
       "8"
      ]
     },
     "execution_count": 61,
     "metadata": {},
     "output_type": "execute_result"
    }
   ],
   "source": [
    "string=\"hello this is a string\"\n",
    "string.find(\"i\")"
   ]
  },
  {
   "cell_type": "code",
   "execution_count": 63,
   "id": "414911fe-a971-41fb-8f3c-e7cb3521f207",
   "metadata": {},
   "outputs": [
    {
     "data": {
      "text/plain": [
       "11"
      ]
     },
     "execution_count": 63,
     "metadata": {},
     "output_type": "execute_result"
    }
   ],
   "source": [
    "string.find(\"i\",10,len(string))"
   ]
  },
  {
   "cell_type": "code",
   "execution_count": 65,
   "id": "9927246a-1556-4f64-b086-01855924cd3f",
   "metadata": {},
   "outputs": [
    {
     "data": {
      "text/plain": [
       "-1"
      ]
     },
     "execution_count": 65,
     "metadata": {},
     "output_type": "execute_result"
    }
   ],
   "source": [
    "string.find(\"i\",20,len(string))"
   ]
  },
  {
   "cell_type": "code",
   "execution_count": 66,
   "id": "7dddd9da-4bc8-44f0-b56d-e698fe3eb742",
   "metadata": {},
   "outputs": [],
   "source": [
    "# string.find=returns the lowet index of substring from string.if not found returns value (-1)"
   ]
  },
  {
   "cell_type": "code",
   "execution_count": 74,
   "id": "a4df36e8-6fb4-4be1-8add-4c1f13e74f2f",
   "metadata": {},
   "outputs": [
    {
     "data": {
      "text/plain": [
       "1"
      ]
     },
     "execution_count": 74,
     "metadata": {},
     "output_type": "execute_result"
    }
   ],
   "source": [
    "string=\"hello this is a string\"\n",
    "string.index(\"e\")"
   ]
  },
  {
   "cell_type": "code",
   "execution_count": 75,
   "id": "94636a4e-74a6-4420-9b50-d0756c2f7bc0",
   "metadata": {},
   "outputs": [
    {
     "ename": "ValueError",
     "evalue": "substring not found",
     "output_type": "error",
     "traceback": [
      "\u001b[1;31m---------------------------------------------------------------------------\u001b[0m",
      "\u001b[1;31mValueError\u001b[0m                                Traceback (most recent call last)",
      "Cell \u001b[1;32mIn[75], line 1\u001b[0m\n\u001b[1;32m----> 1\u001b[0m string\u001b[38;5;241m.\u001b[39mindex(\u001b[38;5;124m\"\u001b[39m\u001b[38;5;124m20\u001b[39m\u001b[38;5;124m\"\u001b[39m,\u001b[38;5;241m22\u001b[39m,\u001b[38;5;28mlen\u001b[39m(string))\n",
      "\u001b[1;31mValueError\u001b[0m: substring not found"
     ]
    }
   ],
   "source": [
    "string.index(\"20\",22,len(string))"
   ]
  },
  {
   "cell_type": "code",
   "execution_count": 76,
   "id": "d50629d2-dca5-4aa6-bf5b-c296ccab9b71",
   "metadata": {},
   "outputs": [],
   "source": [
    "# string.index=provides the lowet index value of substring.if not found raise value error"
   ]
  },
  {
   "cell_type": "code",
   "execution_count": 78,
   "id": "01b9fb11-64cd-4b5a-8475-3d19a7b5eb33",
   "metadata": {},
   "outputs": [
    {
     "data": {
      "text/plain": [
       "False"
      ]
     },
     "execution_count": 78,
     "metadata": {},
     "output_type": "execute_result"
    }
   ],
   "source": [
    "string=\"hello this is a string\"\n",
    "string.isalnum()"
   ]
  },
  {
   "cell_type": "code",
   "execution_count": 79,
   "id": "ba44d115-c87d-48e2-a6b7-9fae0a09796d",
   "metadata": {},
   "outputs": [],
   "source": [
    "# string.isalnum=return true if all the characters are alpha numeric.if not false,(alpha mean without space)"
   ]
  },
  {
   "cell_type": "code",
   "execution_count": 80,
   "id": "38bdb459-e870-499a-9066-c670e25bbf9b",
   "metadata": {},
   "outputs": [
    {
     "data": {
      "text/plain": [
       "False"
      ]
     },
     "execution_count": 80,
     "metadata": {},
     "output_type": "execute_result"
    }
   ],
   "source": [
    "string=\"hello this is a string\"\n",
    "string.isalpha()"
   ]
  },
  {
   "cell_type": "code",
   "execution_count": 83,
   "id": "7949a913-d41a-4207-a4dc-b71701d135e7",
   "metadata": {},
   "outputs": [
    {
     "data": {
      "text/plain": [
       "True"
      ]
     },
     "execution_count": 83,
     "metadata": {},
     "output_type": "execute_result"
    }
   ],
   "source": [
    "string=\"hellothisiastring\"\n",
    "string.isalpha()"
   ]
  },
  {
   "cell_type": "code",
   "execution_count": 84,
   "id": "f3eb3cd6-91e2-4ef2-8a4c-907ca7054a8a",
   "metadata": {},
   "outputs": [],
   "source": [
    "# string.isalpha=returns true if all the characters are alpha alphabath.if not false"
   ]
  },
  {
   "cell_type": "code",
   "execution_count": 85,
   "id": "bc39dbc4-a192-4f84-a065-e274ef65a765",
   "metadata": {},
   "outputs": [
    {
     "data": {
      "text/plain": [
       "True"
      ]
     },
     "execution_count": 85,
     "metadata": {},
     "output_type": "execute_result"
    }
   ],
   "source": [
    "string=\"hello this is a string\"\n",
    "string.isascii()"
   ]
  },
  {
   "cell_type": "code",
   "execution_count": 86,
   "id": "8378bc4b-185a-47d2-904d-16f6b4559a06",
   "metadata": {},
   "outputs": [],
   "source": [
    "# string.isascii=return true if all character are ASCII,meaning their unicode point is in the range 0-127.if not provide false "
   ]
  },
  {
   "cell_type": "code",
   "execution_count": 87,
   "id": "e45b6e71-ce33-45d7-a111-c8145d76f2d1",
   "metadata": {},
   "outputs": [
    {
     "data": {
      "text/plain": [
       "False"
      ]
     },
     "execution_count": 87,
     "metadata": {},
     "output_type": "execute_result"
    }
   ],
   "source": [
    "string=\"hello this is a string\"\n",
    "string.isdecimal()"
   ]
  },
  {
   "cell_type": "code",
   "execution_count": 88,
   "id": "dac5c984-0daf-4c62-99fd-16fca348c172",
   "metadata": {},
   "outputs": [],
   "source": [
    "# string.isdecimal=provides true if string is decimal string means all characters are decimal character.if not false"
   ]
  },
  {
   "cell_type": "code",
   "execution_count": 95,
   "id": "680f5137-8540-4524-bf64-e4137a86ed3e",
   "metadata": {},
   "outputs": [
    {
     "data": {
      "text/plain": [
       "False"
      ]
     },
     "execution_count": 95,
     "metadata": {},
     "output_type": "execute_result"
    }
   ],
   "source": [
    "string=\"hello this is a string\"\n",
    "string.isdigit()"
   ]
  },
  {
   "cell_type": "code",
   "execution_count": 96,
   "id": "273e8d51-d6b5-439d-af8f-406f1703d90a",
   "metadata": {},
   "outputs": [],
   "source": [
    "# string.isdigit=provides true if all  characters are digits(unicode digits included like superscripts).if not false"
   ]
  },
  {
   "cell_type": "code",
   "execution_count": 97,
   "id": "a1164daf-4e90-475a-aac1-9f61ebb28bd4",
   "metadata": {},
   "outputs": [
    {
     "data": {
      "text/plain": [
       "'HELLO THIS IS A STRING'"
      ]
     },
     "execution_count": 97,
     "metadata": {},
     "output_type": "execute_result"
    }
   ],
   "source": [
    "string=\"hello this is a string\"\n",
    "string.upper()"
   ]
  },
  {
   "cell_type": "code",
   "execution_count": 98,
   "id": "d8adc1e5-7102-4e21-93f5-0468574659c6",
   "metadata": {},
   "outputs": [],
   "source": [
    "# string.upper=makes a copy of string into uppercase"
   ]
  },
  {
   "cell_type": "code",
   "execution_count": 99,
   "id": "d39cecd1-d134-4baa-930a-1a796455001a",
   "metadata": {},
   "outputs": [
    {
     "data": {
      "text/plain": [
       "'hello this is a string'"
      ]
     },
     "execution_count": 99,
     "metadata": {},
     "output_type": "execute_result"
    }
   ],
   "source": [
    "string=\"HELLO THIS IS A STRING\"\n",
    "string.lower()"
   ]
  },
  {
   "cell_type": "code",
   "execution_count": 100,
   "id": "b6c2d5ec-134c-45d5-aa56-961c928554e1",
   "metadata": {},
   "outputs": [],
   "source": [
    "# string.lower=provides a copy of string into lower case"
   ]
  },
  {
   "cell_type": "code",
   "execution_count": null,
   "id": "a11b91b2-e82a-4dcc-a625-98e6906c75ce",
   "metadata": {},
   "outputs": [],
   "source": [
    "# str.islower()\n",
    "# Returns True if all characters are lowercase.\n",
    "# str.isnumeric()\n",
    "# Returns True if all characters are numeric.\n",
    "# str.isprintable()\n",
    "# Returns True if all characters are printable.\n",
    "# str.isspace()\n",
    "# Returns True if all characters are whitespace.\n",
    "# str.istitle()\n",
    "# Returns True if the string is titlecased.\n",
    "# str.isupper()\n",
    "# Returns True if all characters are uppercase.\n",
    "# str.join(iterable)\n",
    "# Joins elements of an iterable with the string as a separator\n",
    "# str.maketrans(x, y=None, z=None)\n",
    "# Returns a translation table.\n",
    "# str.partition(sep)\n",
    "# Splits the string at the first occurrence of sep.\n",
    "# str.removeprefix(prefix)\n",
    "# Removes the specified prefix if present.\n",
    "# str.removesuffix(suffix)\n",
    "# Removes the specified suffix if present.\n",
    "# str.replace(old, new[, count])\n",
    "# Returns a copy with all occurrences of a substring replaced.\n",
    "# str.rfind(sub[, start[, end]])\n",
    "# Returns the highest index of the substring.\n",
    "# str.rindex(sub[, start[, end]])\n"
   ]
  }
 ],
 "metadata": {
  "kernelspec": {
   "display_name": "Python [conda env:base] *",
   "language": "python",
   "name": "conda-base-py"
  },
  "language_info": {
   "codemirror_mode": {
    "name": "ipython",
    "version": 3
   },
   "file_extension": ".py",
   "mimetype": "text/x-python",
   "name": "python",
   "nbconvert_exporter": "python",
   "pygments_lexer": "ipython3",
   "version": "3.13.5"
  }
 },
 "nbformat": 4,
 "nbformat_minor": 5
}
