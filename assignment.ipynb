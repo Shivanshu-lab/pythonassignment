{
 "cells": [
  {
   "cell_type": "code",
   "execution_count": 41,
   "id": "af5712fe-1ca2-4316-8fef-977e740b3110",
   "metadata": {},
   "outputs": [
    {
     "name": "stdin",
     "output_type": "stream",
     "text": [
      "number of units from users : 350\n"
     ]
    },
    {
     "name": "stdout",
     "output_type": "stream",
     "text": [
      "your bill will be  0\n"
     ]
    }
   ],
   "source": [
    "#Q1\n",
    "unit=int(input(\"number of units from users :\"))\n",
    "bill=0\n",
    "if unit>100:\n",
    "    if unit<=200:\n",
    "        bill += (unit-100)*5\n",
    "        if unit>200:\n",
    "            bill += 100*5\n",
    "            bill += (unit-200) * 10\n",
    "if unit<=100:\n",
    "    bill=0\n",
    "print(\"your bill will be \",bill)"
   ]
  },
  {
   "cell_type": "code",
   "execution_count": 21,
   "id": "55382b97-54fb-4752-ad52-681ee0219f60",
   "metadata": {},
   "outputs": [
    {
     "name": "stdin",
     "output_type": "stream",
     "text": [
      "please enter your percentage : 85\n"
     ]
    },
    {
     "name": "stdout",
     "output_type": "stream",
     "text": [
      "grade B\n"
     ]
    }
   ],
   "source": [
    "#Q2\n",
    "marks=int(input(\"please enter your percentage :\"))\n",
    "if marks>90:\n",
    "    print(\"grade a\")\n",
    "elif marks>80 and marks<=90:\n",
    "    print(\"grade B\")\n",
    "elif marks>=60 and marks<=80:\n",
    "    print(\"grade C\")\n",
    "elif marks<60:\n",
    "    print(\"grade D\")"
   ]
  },
  {
   "cell_type": "code",
   "execution_count": 24,
   "id": "c15ad766-f637-4c45-a3b7-7a1844a257ef",
   "metadata": {},
   "outputs": [
    {
     "name": "stdin",
     "output_type": "stream",
     "text": [
      "please enter your age : 15\n",
      "please enter your age : 14\n",
      "please enter your age : 13\n",
      "please enter your age : 12\n"
     ]
    },
    {
     "name": "stdout",
     "output_type": "stream",
     "text": [
      "people_4 is the youngest\n"
     ]
    }
   ],
   "source": [
    "#Q3 \n",
    "people_1=int(input(\"please enter your age :\"))\n",
    "people_2=int(input(\"please enter your age :\"))\n",
    "people_3=int(input(\"please enter your age :\"))\n",
    "people_4=int(input(\"please enter your age :\"))\n",
    "if people_1<people_2:\n",
    "    print(\"people_1 is the youngest\")\n",
    "elif people_2<people_3:\n",
    "    print(\"people_2 is the youngest\")\n",
    "elif people_3<people_4:\n",
    "    print(\"people_3 is the youngest\")\n",
    "elif people_4<people_1:\n",
    "    print(\"people_4 is the youngest\")\n",
    "        "
   ]
  },
  {
   "cell_type": "code",
   "execution_count": 8,
   "id": "01ec9d10-ace7-4c94-837b-c7a6d0bbec37",
   "metadata": {},
   "outputs": [
    {
     "name": "stdin",
     "output_type": "stream",
     "text": [
      "enter your salary : 200\n",
      "enter your period of service : 12\n"
     ]
    },
    {
     "name": "stdout",
     "output_type": "stream",
     "text": [
      "bonus:Rs 20.0\n",
      "your will be 220.0\n"
     ]
    }
   ],
   "source": [
    "#Q4\n",
    "salary=int(input(\"enter your salary :\"))\n",
    "years=int(input(\"enter your period of service :\"))\n",
    "if years>10:\n",
    "    net_bonus=0.10*salary\n",
    "elif years>=6 and years<=10:\n",
    "    net_bonus=0.08*salary\n",
    "elif years<6:\n",
    "    net_bonus=0.06*salary\n",
    "\n",
    "print(\"bonus:Rs\",net_bonus)\n",
    "print(\"your will be\",salary+net_bonus)"
   ]
  },
  {
   "cell_type": "code",
   "execution_count": 18,
   "id": "37e9c63b-6cd2-4467-8cf0-c12aa76c20f8",
   "metadata": {},
   "outputs": [
    {
     "name": "stdin",
     "output_type": "stream",
     "text": [
      "first number : 28\n",
      "second number : 20\n",
      "third number : 24\n"
     ]
    },
    {
     "name": "stdout",
     "output_type": "stream",
     "text": [
      "number_3 is the second largest number.\n"
     ]
    }
   ],
   "source": [
    "#Q5\n",
    "number_1=int(input(\"first number :\"))\n",
    "number_2=int(input(\"second number :\"))\n",
    "number_3=int(input(\"third number :\"))\n",
    "if number_1>number_2 and number_2>number_3:\n",
    "    print(\"number_2 is the second largest number.\")\n",
    "elif number_2>number_1 and number_1>number_3:\n",
    "    print(\"number_1 is the second largest number.\")\n",
    "elif number_1>number_3 and number_3>number_2:\n",
    "    print(\"number_3 is the second largest number.\")"
   ]
  },
  {
   "cell_type": "code",
   "execution_count": 21,
   "id": "c6a5f9ae-2844-48bc-a14b-f971b194036c",
   "metadata": {},
   "outputs": [
    {
     "name": "stdin",
     "output_type": "stream",
     "text": [
      "please enter market price : 11000\n"
     ]
    },
    {
     "name": "stdout",
     "output_type": "stream",
     "text": [
      "discount will be : 2200.0\n",
      "total net amount will be 8800.0\n"
     ]
    }
   ],
   "source": [
    "#Q6 \n",
    "marked_price=int(input(\"please enter market price :\"))\n",
    "if marked_price>1000:\n",
    "    net_discount=marked_price*0.20\n",
    "elif marked_price>7000 and marked_price<=10000:\n",
    "    net_discount=marked_price*0.15\n",
    "elif marked_price<=7000:\n",
    "    net_discount=marked_price*0.10\n",
    "print(\"discount will be :\",net_discount)\n",
    "print(\"total net amount will be\",marked_price-net_discount)"
   ]
  },
  {
   "cell_type": "code",
   "execution_count": 22,
   "id": "7cd04893-3b51-4c88-b3b8-8204630a249c",
   "metadata": {},
   "outputs": [
    {
     "name": "stdin",
     "output_type": "stream",
     "text": [
      "enter your english marks : 85\n",
      "enter your math marks : 45\n",
      "enter your science marks : 45\n",
      "enter your social studies marks : 85\n"
     ]
    },
    {
     "name": "stdout",
     "output_type": "stream",
     "text": [
      "stream allotted : humanities\n"
     ]
    }
   ],
   "source": [
    "#Q7\n",
    "english_marks=int(input(\"enter your english marks :\"))\n",
    "math_marks=int(input(\"enter your math marks :\"))\n",
    "science_marks=int(input(\"enter your science marks :\"))\n",
    "social_studies_marks=int(input(\"enter your social studies marks :\"))\n",
    "if english_marks>80 and math_marks>80 and science_marks>80 and social_studies_marks>80:\n",
    "    print(\"stream allotted : science stream\")\n",
    "elif english_marks>80 and math_marks>50 and science_marks>50:\n",
    "    print(\"stream allotted : commerce\")\n",
    "elif english_marks>80 and social_studies_marks>80:\n",
    "    print(\"stream allotted : humanities\")"
   ]
  },
  {
   "cell_type": "code",
   "execution_count": 25,
   "id": "4a382a10-9559-4095-9628-4ea8bd8f2ffd",
   "metadata": {},
   "outputs": [
    {
     "name": "stdin",
     "output_type": "stream",
     "text": [
      "enter your number : 15\n"
     ]
    },
    {
     "name": "stdout",
     "output_type": "stream",
     "text": [
      "hello\n"
     ]
    }
   ],
   "source": [
    "#Q8 \n",
    "number=int(input(\"enter your number :\"))\n",
    "if number %5==0:\n",
    "    print(\"hello\")\n",
    "else:\n",
    "    print(\"bye\")\n",
    "\n"
   ]
  },
  {
   "cell_type": "code",
   "execution_count": 30,
   "id": "129f86b4-5dca-4a96-afa1-b60c0ea5e86f",
   "metadata": {},
   "outputs": [
    {
     "name": "stdin",
     "output_type": "stream",
     "text": [
      "enter three digit number : 14\n"
     ]
    },
    {
     "name": "stdout",
     "output_type": "stream",
     "text": [
      "it's not\n"
     ]
    }
   ],
   "source": [
    "#Q9 \n",
    "three_digit_number=int(input(\"enter three digit number :\"))\n",
    "if three_digit_number %3==0:\n",
    "    print(\"yes it is divisible by 3\")\n",
    "else:\n",
    "    print(\"it\\'s not\")\n",
    "    "
   ]
  },
  {
   "cell_type": "code",
   "execution_count": 33,
   "id": "a789b497-8a0e-450f-b09b-a97f910a2a2d",
   "metadata": {},
   "outputs": [
    {
     "name": "stdin",
     "output_type": "stream",
     "text": [
      "enter a number : -10\n"
     ]
    },
    {
     "name": "stdout",
     "output_type": "stream",
     "text": [
      "it is not a three digit number\n"
     ]
    }
   ],
   "source": [
    "#Q10 \n",
    "num=int(input(\"enter a number :\"))\n",
    "if num>=100 and num<=999:\n",
    "    print(\"this number is three digit number\")\n",
    "elif num<=-100 and num>=-999:\n",
    "    print(\"this number is three digit number\")\n",
    "else:\n",
    "    print(\"it is not a three digit number\")"
   ]
  },
  {
   "cell_type": "code",
   "execution_count": null,
   "id": "d301a546-6a82-4b4b-810e-8eead8424188",
   "metadata": {},
   "outputs": [],
   "source": []
  },
  {
   "cell_type": "code",
   "execution_count": null,
   "id": "6936f2ce-e47b-4b1f-9b45-b320652127c4",
   "metadata": {},
   "outputs": [],
   "source": []
  }
 ],
 "metadata": {
  "kernelspec": {
   "display_name": "Python [conda env:base] *",
   "language": "python",
   "name": "conda-base-py"
  },
  "language_info": {
   "codemirror_mode": {
    "name": "ipython",
    "version": 3
   },
   "file_extension": ".py",
   "mimetype": "text/x-python",
   "name": "python",
   "nbconvert_exporter": "python",
   "pygments_lexer": "ipython3",
   "version": "3.13.5"
  }
 },
 "nbformat": 4,
 "nbformat_minor": 5
}
