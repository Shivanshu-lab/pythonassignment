{
 "cells": [
  {
   "cell_type": "code",
   "execution_count": 1,
   "id": "0da08cd9-c079-4826-a3d6-29e42d32d09d",
   "metadata": {},
   "outputs": [
    {
     "name": "stdout",
     "output_type": "stream",
     "text": [
      "1\n",
      "2\n",
      "3\n",
      "4\n",
      "5\n",
      "6\n",
      "7\n",
      "8\n",
      "9\n",
      "10\n"
     ]
    }
   ],
   "source": [
    "#Q1 \n",
    "for num in range(1,11): \n",
    "    print(num)\n",
    "    "
   ]
  },
  {
   "cell_type": "code",
   "execution_count": 6,
   "id": "d82bc02b-c2fa-4f2c-8b2d-d1f6b828c326",
   "metadata": {},
   "outputs": [
    {
     "name": "stdout",
     "output_type": "stream",
     "text": [
      "5050\n"
     ]
    }
   ],
   "source": [
    "#Q2 \n",
    "num=0\n",
    "for sum_number in range(1,101):\n",
    "    num += sum_number\n",
    "print(num)"
   ]
  },
  {
   "cell_type": "code",
   "execution_count": 7,
   "id": "40cfc495-f734-4a5b-ac57-fbbbae53cd55",
   "metadata": {},
   "outputs": [
    {
     "name": "stdin",
     "output_type": "stream",
     "text": [
      "enter your number : 5\n"
     ]
    },
    {
     "name": "stdout",
     "output_type": "stream",
     "text": [
      "5X1=5\n",
      "5X2=10\n",
      "5X3=15\n",
      "5X4=20\n",
      "5X5=25\n",
      "5X6=30\n",
      "5X7=35\n",
      "5X8=40\n",
      "5X9=45\n",
      "5X10=50\n"
     ]
    }
   ],
   "source": [
    "#Q3 \n",
    "table_num=int(input(\"enter your number :\"))\n",
    "for number in range (1,11): \n",
    "    print(F\"{table_num}X{number}={table_num*number}\")"
   ]
  },
  {
   "cell_type": "code",
   "execution_count": 13,
   "id": "13368f9b-20b0-4a9f-8f3f-94044c4a5297",
   "metadata": {},
   "outputs": [
    {
     "name": "stdout",
     "output_type": "stream",
     "text": [
      "number of odd number 5\n",
      "number of even number 5\n"
     ]
    }
   ],
   "source": [
    "#Q4 \n",
    "list1=[1,2,3,4,5,6,7,8,9,10] \n",
    "odd_count=0\n",
    "even_count=0\n",
    "for item in list1: \n",
    "    if item %2 == 1: \n",
    "        odd_count +=1 \n",
    "    if item %2 == 0: \n",
    "        even_count +=1\n",
    "print(\"number of odd number\",odd_count)\n",
    "print(\"number of even number\",even_count)"
   ]
  },
  {
   "cell_type": "code",
   "execution_count": 19,
   "id": "db94437f-bb0d-4a47-b573-f3685ace441e",
   "metadata": {},
   "outputs": [
    {
     "name": "stdin",
     "output_type": "stream",
     "text": [
      "enter your number : 5\n"
     ]
    },
    {
     "name": "stdout",
     "output_type": "stream",
     "text": [
      "the factorial of 5 is 120\n"
     ]
    }
   ],
   "source": [
    "#Q5 \n",
    "numb=int(input(\"enter your number :\"))\n",
    "factorial=1 \n",
    "for i in range(1,numb+1): \n",
    "        factorial *= i \n",
    "print(f\"the factorial of {numb} is {factorial}\")\n",
    "\n"
   ]
  },
  {
   "cell_type": "code",
   "execution_count": 22,
   "id": "9bfb49b1-c3d7-42c1-9486-1d1b1b560e88",
   "metadata": {},
   "outputs": [
    {
     "name": "stdin",
     "output_type": "stream",
     "text": [
      "enter your number : 10\n"
     ]
    },
    {
     "name": "stdout",
     "output_type": "stream",
     "text": [
      "0 1 1 2 3 5 8 13 21 34 "
     ]
    }
   ],
   "source": [
    "#Q6 \n",
    "num=int(input(\"enter your number :\"))\n",
    "a=0\n",
    "b=1\n",
    "for _ in range(num):\n",
    "    print(a,end=' ')\n",
    "    a,b=b,a+b"
   ]
  },
  {
   "cell_type": "code",
   "execution_count": 1,
   "id": "ed683727-a69f-4b7f-ab46-d26ed31ee347",
   "metadata": {},
   "outputs": [],
   "source": [
    "#Q7 "
   ]
  },
  {
   "cell_type": "code",
   "execution_count": 5,
   "id": "37a0aca2-25d8-4303-97e5-95700d80fccd",
   "metadata": {},
   "outputs": [
    {
     "name": "stdout",
     "output_type": "stream",
     "text": [
      "the largest element is 9\n"
     ]
    }
   ],
   "source": [
    "#Q8 \n",
    "list1=[1,2,3,4,5,6,7,8,9]\n",
    "largest_element=list1[0]\n",
    "for i in list1:\n",
    "    if i > largest_element:\n",
    "        largest_element=i\n",
    "print(\"the largest element is\",largest_element)    "
   ]
  },
  {
   "cell_type": "code",
   "execution_count": 7,
   "id": "7b0a509e-fe89-4e2b-ba1e-ec9bab43952a",
   "metadata": {},
   "outputs": [
    {
     "name": "stdin",
     "output_type": "stream",
     "text": [
      "please enter a string : hello this is my string\n"
     ]
    },
    {
     "name": "stdout",
     "output_type": "stream",
     "text": [
      "your reversed text will be gnirts ym si siht olleh\n"
     ]
    }
   ],
   "source": [
    "#Q9 \n",
    "string=input(\"please enter a string :\")\n",
    "reversed_text=\"\"\n",
    "for char in string:\n",
    "    reversed_text=char+reversed_text\n",
    "print(\"your reversed text will be\",reversed_text)"
   ]
  },
  {
   "cell_type": "code",
   "execution_count": 10,
   "id": "c3a912e2-0c4c-4df1-b227-f6e282c94e56",
   "metadata": {},
   "outputs": [
    {
     "name": "stdout",
     "output_type": "stream",
     "text": [
      "comman_element\n"
     ]
    }
   ],
   "source": [
    "#Q10 \n",
    "list1=[1,2,3]\n",
    "list2=[4,5,1] \n",
    "comman_element=[]\n",
    "for i in list1: \n",
    "    if i in list2:\n",
    "        comman_element.append(i)\n",
    "print(\"comman_element\")    "
   ]
  },
  {
   "cell_type": "code",
   "execution_count": null,
   "id": "37b5f231-935e-4cef-a72b-86d328178185",
   "metadata": {},
   "outputs": [],
   "source": []
  }
 ],
 "metadata": {
  "kernelspec": {
   "display_name": "Python [conda env:base] *",
   "language": "python",
   "name": "conda-base-py"
  },
  "language_info": {
   "codemirror_mode": {
    "name": "ipython",
    "version": 3
   },
   "file_extension": ".py",
   "mimetype": "text/x-python",
   "name": "python",
   "nbconvert_exporter": "python",
   "pygments_lexer": "ipython3",
   "version": "3.13.5"
  }
 },
 "nbformat": 4,
 "nbformat_minor": 5
}
